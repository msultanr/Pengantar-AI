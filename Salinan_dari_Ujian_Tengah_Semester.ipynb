{
  "nbformat": 4,
  "nbformat_minor": 0,
  "metadata": {
    "colab": {
      "provenance": [],
      "collapsed_sections": [
        "11AGY8APdzcn"
      ]
    },
    "kernelspec": {
      "name": "python3",
      "display_name": "Python 3"
    },
    "language_info": {
      "name": "python"
    }
  },
  "cells": [
    {
      "cell_type": "markdown",
      "source": [
        "1. copy notebook ini dan ubah namanya menjadi <nama>_<nim>_Ujian-tengah-semester\n",
        "2. simpan notebook ini dalam folder tugas\n",
        "3. Batas waktu pengumpulan 8 Juni 2022 (dilihat dari tanggal file)"
      ],
      "metadata": {
        "id": "RhNNMJNhiuj6"
      }
    },
    {
      "cell_type": "markdown",
      "source": [
        "## Linux dan Bash Script"
      ],
      "metadata": {
        "id": "F33WR2IWc8B3"
      }
    },
    {
      "cell_type": "markdown",
      "source": [
        "### Download dataset pada https://www.dropbox.com/s/sr9drut9v1zckhi/sp500_dataset.csv"
      ],
      "metadata": {
        "id": "rz2kgx1ZdBbV"
      }
    },
    {
      "cell_type": "code",
      "execution_count": null,
      "metadata": {
        "id": "u70cKuaibNbA",
        "colab": {
          "base_uri": "https://localhost:8080/"
        },
        "outputId": "7f2e3b67-24ee-444f-8ac5-7a16dde03576"
      },
      "outputs": [
        {
          "output_type": "stream",
          "name": "stdout",
          "text": [
            "--2022-06-07 16:19:52--  https://www.dropbox.com/s/sr9drut9v1zckhi/sp500_dataset.csv\n",
            "Resolving www.dropbox.com (www.dropbox.com)... 162.125.2.18, 2620:100:6027:18::a27d:4812\n",
            "Connecting to www.dropbox.com (www.dropbox.com)|162.125.2.18|:443... connected.\n",
            "HTTP request sent, awaiting response... 301 Moved Permanently\n",
            "Location: /s/raw/sr9drut9v1zckhi/sp500_dataset.csv [following]\n",
            "--2022-06-07 16:19:53--  https://www.dropbox.com/s/raw/sr9drut9v1zckhi/sp500_dataset.csv\n",
            "Reusing existing connection to www.dropbox.com:443.\n",
            "HTTP request sent, awaiting response... 302 Found\n",
            "Location: https://uce108c8d916b443441bbc073b40.dl.dropboxusercontent.com/cd/0/inline/BmzlMkJXjxG1ExGSiXa0X8PSxHs8rEl2oN-MTXKFz1xEcBlouRPrPHFrbF0ZczpK81P7XMJCUr-MEUWE6w_aYLBvage66l0-VmN83KT5ZsXx0zI0VbkGdHB7Q0NjXhWSNmJ4_-5LIL8ZCzKuG0l7OYvi2Toq9QQzguFCRUkeKEzNyA/file# [following]\n",
            "--2022-06-07 16:19:53--  https://uce108c8d916b443441bbc073b40.dl.dropboxusercontent.com/cd/0/inline/BmzlMkJXjxG1ExGSiXa0X8PSxHs8rEl2oN-MTXKFz1xEcBlouRPrPHFrbF0ZczpK81P7XMJCUr-MEUWE6w_aYLBvage66l0-VmN83KT5ZsXx0zI0VbkGdHB7Q0NjXhWSNmJ4_-5LIL8ZCzKuG0l7OYvi2Toq9QQzguFCRUkeKEzNyA/file\n",
            "Resolving uce108c8d916b443441bbc073b40.dl.dropboxusercontent.com (uce108c8d916b443441bbc073b40.dl.dropboxusercontent.com)... 162.125.70.15, 2620:100:6021:15::a27d:410f\n",
            "Connecting to uce108c8d916b443441bbc073b40.dl.dropboxusercontent.com (uce108c8d916b443441bbc073b40.dl.dropboxusercontent.com)|162.125.70.15|:443... connected.\n",
            "HTTP request sent, awaiting response... 200 OK\n",
            "Length: 425429 (415K) [text/plain]\n",
            "Saving to: ‘sp500_dataset.csv’\n",
            "\n",
            "sp500_dataset.csv   100%[===================>] 415.46K  --.-KB/s    in 0.1s    \n",
            "\n",
            "2022-06-07 16:19:54 (3.51 MB/s) - ‘sp500_dataset.csv’ saved [425429/425429]\n",
            "\n"
          ]
        }
      ],
      "source": [
        "!wget --no-check-certificate https://www.dropbox.com/s/sr9drut9v1zckhi/sp500_dataset.csv"
      ]
    },
    {
      "cell_type": "markdown",
      "source": [
        "### Tampilkan 15 data terakhir"
      ],
      "metadata": {
        "id": "erv-BSfSb_IP"
      }
    },
    {
      "cell_type": "code",
      "source": [
        "!tail -n 15 sp500_dataset.csv"
      ],
      "metadata": {
        "id": "ocz5S4PAbQ9r",
        "colab": {
          "base_uri": "https://localhost:8080/"
        },
        "outputId": "6d269b43-2c6b-4a6a-aea8-4a7d32469950"
      },
      "execution_count": null,
      "outputs": [
        {
          "output_type": "stream",
          "name": "stdout",
          "text": [
            "1997,2021-04-03 00:00:00,Zebra Technologies,ZBRA,140000000.0,276000000.0,228000000.0,216000000.0,655000000.0,273000000.0,273000000.0,-7000000.0,48000000.0,1347000000.0,1074000000.0,692000000.0,3000000.0,228000000.0,228000000.0\n",
            "1998,2020-12-31 00:00:00,Zebra Technologies,ZBRA,137000000.0,216000000.0,199000000.0,218000000.0,618000000.0,237000000.0,237000000.0,-7000000.0,17000000.0,1308000000.0,1071000000.0,690000000.0,-21000000.0,199000000.0,199000000.0\n",
            "1999,2020-09-26 00:00:00,Zebra Technologies,ZBRA,113000000.0,138000000.0,116000000.0,190000000.0,493000000.0,170000000.0,170000000.0,-10000000.0,22000000.0,1132000000.0,962000000.0,639000000.0,-32000000.0,116000000.0,116000000.0\n",
            "2000,2021-06-30 00:00:00,Zimmer Biomet,ZBH,180500000.0,173900000.0,141900000.0,812000000.0,1453200000.0,306100000.0,306100000.0,-54700000.0,31400000.0,2026900000.0,1720800000.0,573700000.0,-132200000.0,142500000.0,141900000.0\n",
            "2001,2021-03-31 00:00:00,Zimmer Biomet,ZBH,94400000.0,220600000.0,198100000.0,765500000.0,1331000000.0,315600000.0,315600000.0,-52300000.0,22900000.0,1847400000.0,1531800000.0,516400000.0,-95000000.0,197700000.0,198100000.0\n",
            "2002,2020-12-31 00:00:00,Zimmer Biomet,ZBH,100000000.0,195600000.0,333700000.0,807200000.0,1433700000.0,373900000.0,373900000.0,-53100000.0,-138200000.0,2085300000.0,1711400000.0,651600000.0,-178300000.0,333800000.0,333700000.0\n",
            "2003,2020-09-30 00:00:00,Zimmer Biomet,ZBH,85900000.0,255800000.0,242500000.0,772300000.0,1362200000.0,354300000.0,354300000.0,-54000000.0,9700000.0,1929300000.0,1575000000.0,567100000.0,-98500000.0,246100000.0,242500000.0\n",
            "2004,2021-06-30 00:00:00,Zions Bancorp,ZION,,455000000.0,354000000.0,358000000.0,883000000.0,0.0,461000000.0,,101000000.0,883000000.0,422000000.0,0.0,-6000000.0,354000000.0,340000000.0\n",
            "2005,2021-03-31 00:00:00,Zions Bancorp,ZION,,411000000.0,322000000.0,378000000.0,837000000.0,0.0,418000000.0,,89000000.0,837000000.0,419000000.0,0.0,-7000000.0,322000000.0,312000000.0\n",
            "2006,2020-12-31 00:00:00,Zions Bancorp,ZION,,359000000.0,284000000.0,363000000.0,778000000.0,0.0,396000000.0,,75000000.0,778000000.0,382000000.0,0.0,-37000000.0,284000000.0,272000000.0\n",
            "2007,2020-09-30 00:00:00,Zions Bancorp,ZION,,215000000.0,175000000.0,353000000.0,667000000.0,0.0,222000000.0,,40000000.0,667000000.0,445000000.0,0.0,-7000000.0,175000000.0,166000000.0\n",
            "2008,2021-06-30 00:00:00,Zoetis,ZTS,120000000.0,636000000.0,512000000.0,495000000.0,1382000000.0,726000000.0,726000000.0,-57000000.0,125000000.0,1948000000.0,1222000000.0,566000000.0,-90000000.0,511000000.0,512000000.0\n",
            "2009,2021-03-31 00:00:00,Zoetis,ZTS,118000000.0,687000000.0,559000000.0,409000000.0,1323000000.0,756000000.0,756000000.0,-57000000.0,129000000.0,1871000000.0,1115000000.0,548000000.0,-69000000.0,558000000.0,559000000.0\n",
            "2010,2020-12-31 00:00:00,Zoetis,ZTS,133000000.0,420000000.0,359000000.0,518000000.0,1221000000.0,530000000.0,530000000.0,-58000000.0,62000000.0,1807000000.0,1277000000.0,586000000.0,-110000000.0,358000000.0,359000000.0\n",
            "2011,2020-09-30 00:00:00,Zoetis,ZTS,112000000.0,597000000.0,479000000.0,419000000.0,1241000000.0,670000000.0,670000000.0,-62000000.0,118000000.0,1786000000.0,1116000000.0,545000000.0,-73000000.0,479000000.0,479000000.0\n"
          ]
        }
      ]
    },
    {
      "cell_type": "markdown",
      "source": [
        "### Tampilkan semua perusahaan dengan kode saham (ticker) PEP"
      ],
      "metadata": {
        "id": "mgBiXlcQcxnm"
      }
    },
    {
      "cell_type": "code",
      "source": [
        "! grep PEP sp500_dataset.csv"
      ],
      "metadata": {
        "id": "JeRq4k8wcKXU",
        "colab": {
          "base_uri": "https://localhost:8080/"
        },
        "outputId": "430c589d-15ee-45de-d86f-28dcb6392bba"
      },
      "execution_count": null,
      "outputs": [
        {
          "output_type": "stream",
          "name": "stdout",
          "text": [
            "1452,2021-09-04 00:00:00,PepsiCo,PEP,,3045000000.0,2224000000.0,7464000000.0,10804000000.0,3340000000.0,3340000000.0,-232000000.0,802000000.0,20189000000.0,16849000000.0,9385000000.0,-295000000.0,2243000000.0,2224000000.0\n",
            "1453,2021-06-12 00:00:00,PepsiCo,PEP,,3014000000.0,2358000000.0,7049000000.0,10340000000.0,3292000000.0,3292000000.0,-194000000.0,642000000.0,19217000000.0,15925000000.0,8877000000.0,-278000000.0,2372000000.0,2358000000.0\n",
            "1454,2021-03-20 00:00:00,PepsiCo,PEP,,2174000000.0,1714000000.0,5852000000.0,8151000000.0,2300000000.0,2300000000.0,-258000000.0,451000000.0,14820000000.0,12520000000.0,6669000000.0,-126000000.0,1723000000.0,1714000000.0\n",
            "1455,2020-12-26 00:00:00,PepsiCo,PEP,719000000.0,2357000000.0,1845000000.0,8492000000.0,12057000000.0,2856000000.0,2856000000.0,-339000000.0,498000000.0,22455000000.0,19599000000.0,10398000000.0,-499000000.0,1859000000.0,1845000000.0\n"
          ]
        }
      ]
    },
    {
      "cell_type": "markdown",
      "source": [
        "### Tampilkan kode salam Apple (hanya kodenya saja)"
      ],
      "metadata": {
        "id": "fGksWJDCdrNG"
      }
    },
    {
      "cell_type": "code",
      "source": [
        "! awk -F, '{if ($3 == \"Apple\") {print $4}}' sp500_dataset.csv"
      ],
      "metadata": {
        "id": "r4cFjvfDdgT6",
        "colab": {
          "base_uri": "https://localhost:8080/"
        },
        "outputId": "0005e59f-040a-40dd-cb13-27731d4b30d7"
      },
      "execution_count": null,
      "outputs": [
        {
          "output_type": "stream",
          "name": "stdout",
          "text": [
            "AAPL\n",
            "AAPL\n",
            "AAPL\n",
            "AAPL\n"
          ]
        }
      ]
    },
    {
      "cell_type": "markdown",
      "source": [
        "## Python"
      ],
      "metadata": {
        "id": "11AGY8APdzcn"
      }
    },
    {
      "cell_type": "markdown",
      "source": [
        "### Load dataset kedalam Pandas Dataframe"
      ],
      "metadata": {
        "id": "G1s2wLOKd1Rk"
      }
    },
    {
      "cell_type": "code",
      "source": [
        "import pandas as pd\n",
        "df = pd.read_csv('sp500_dataset.csv')"
      ],
      "metadata": {
        "id": "IrazMILnd0mO",
        "outputId": "e550e207-fcd6-4d3c-dcc0-a2160d04660e",
        "colab": {
          "base_uri": "https://localhost:8080/",
          "height": 328
        }
      },
      "execution_count": null,
      "outputs": [
        {
          "output_type": "error",
          "ename": "FileNotFoundError",
          "evalue": "ignored",
          "traceback": [
            "\u001b[0;31m---------------------------------------------------------------------------\u001b[0m",
            "\u001b[0;31mFileNotFoundError\u001b[0m                         Traceback (most recent call last)",
            "\u001b[0;32m<ipython-input-1-253edb4b2b49>\u001b[0m in \u001b[0;36m<module>\u001b[0;34m()\u001b[0m\n\u001b[1;32m      1\u001b[0m \u001b[0;32mimport\u001b[0m \u001b[0mpandas\u001b[0m \u001b[0;32mas\u001b[0m \u001b[0mpd\u001b[0m\u001b[0;34m\u001b[0m\u001b[0;34m\u001b[0m\u001b[0m\n\u001b[0;32m----> 2\u001b[0;31m \u001b[0mdf\u001b[0m \u001b[0;34m=\u001b[0m \u001b[0mpd\u001b[0m\u001b[0;34m.\u001b[0m\u001b[0mread_csv\u001b[0m\u001b[0;34m(\u001b[0m\u001b[0;34m'sp500_dataset.csv'\u001b[0m\u001b[0;34m)\u001b[0m\u001b[0;34m\u001b[0m\u001b[0;34m\u001b[0m\u001b[0m\n\u001b[0m",
            "\u001b[0;32m/usr/local/lib/python3.7/dist-packages/pandas/util/_decorators.py\u001b[0m in \u001b[0;36mwrapper\u001b[0;34m(*args, **kwargs)\u001b[0m\n\u001b[1;32m    309\u001b[0m                     \u001b[0mstacklevel\u001b[0m\u001b[0;34m=\u001b[0m\u001b[0mstacklevel\u001b[0m\u001b[0;34m,\u001b[0m\u001b[0;34m\u001b[0m\u001b[0;34m\u001b[0m\u001b[0m\n\u001b[1;32m    310\u001b[0m                 )\n\u001b[0;32m--> 311\u001b[0;31m             \u001b[0;32mreturn\u001b[0m \u001b[0mfunc\u001b[0m\u001b[0;34m(\u001b[0m\u001b[0;34m*\u001b[0m\u001b[0margs\u001b[0m\u001b[0;34m,\u001b[0m \u001b[0;34m**\u001b[0m\u001b[0mkwargs\u001b[0m\u001b[0;34m)\u001b[0m\u001b[0;34m\u001b[0m\u001b[0;34m\u001b[0m\u001b[0m\n\u001b[0m\u001b[1;32m    312\u001b[0m \u001b[0;34m\u001b[0m\u001b[0m\n\u001b[1;32m    313\u001b[0m         \u001b[0;32mreturn\u001b[0m \u001b[0mwrapper\u001b[0m\u001b[0;34m\u001b[0m\u001b[0;34m\u001b[0m\u001b[0m\n",
            "\u001b[0;32m/usr/local/lib/python3.7/dist-packages/pandas/io/parsers/readers.py\u001b[0m in \u001b[0;36mread_csv\u001b[0;34m(filepath_or_buffer, sep, delimiter, header, names, index_col, usecols, squeeze, prefix, mangle_dupe_cols, dtype, engine, converters, true_values, false_values, skipinitialspace, skiprows, skipfooter, nrows, na_values, keep_default_na, na_filter, verbose, skip_blank_lines, parse_dates, infer_datetime_format, keep_date_col, date_parser, dayfirst, cache_dates, iterator, chunksize, compression, thousands, decimal, lineterminator, quotechar, quoting, doublequote, escapechar, comment, encoding, encoding_errors, dialect, error_bad_lines, warn_bad_lines, on_bad_lines, delim_whitespace, low_memory, memory_map, float_precision, storage_options)\u001b[0m\n\u001b[1;32m    584\u001b[0m     \u001b[0mkwds\u001b[0m\u001b[0;34m.\u001b[0m\u001b[0mupdate\u001b[0m\u001b[0;34m(\u001b[0m\u001b[0mkwds_defaults\u001b[0m\u001b[0;34m)\u001b[0m\u001b[0;34m\u001b[0m\u001b[0;34m\u001b[0m\u001b[0m\n\u001b[1;32m    585\u001b[0m \u001b[0;34m\u001b[0m\u001b[0m\n\u001b[0;32m--> 586\u001b[0;31m     \u001b[0;32mreturn\u001b[0m \u001b[0m_read\u001b[0m\u001b[0;34m(\u001b[0m\u001b[0mfilepath_or_buffer\u001b[0m\u001b[0;34m,\u001b[0m \u001b[0mkwds\u001b[0m\u001b[0;34m)\u001b[0m\u001b[0;34m\u001b[0m\u001b[0;34m\u001b[0m\u001b[0m\n\u001b[0m\u001b[1;32m    587\u001b[0m \u001b[0;34m\u001b[0m\u001b[0m\n\u001b[1;32m    588\u001b[0m \u001b[0;34m\u001b[0m\u001b[0m\n",
            "\u001b[0;32m/usr/local/lib/python3.7/dist-packages/pandas/io/parsers/readers.py\u001b[0m in \u001b[0;36m_read\u001b[0;34m(filepath_or_buffer, kwds)\u001b[0m\n\u001b[1;32m    480\u001b[0m \u001b[0;34m\u001b[0m\u001b[0m\n\u001b[1;32m    481\u001b[0m     \u001b[0;31m# Create the parser.\u001b[0m\u001b[0;34m\u001b[0m\u001b[0;34m\u001b[0m\u001b[0;34m\u001b[0m\u001b[0m\n\u001b[0;32m--> 482\u001b[0;31m     \u001b[0mparser\u001b[0m \u001b[0;34m=\u001b[0m \u001b[0mTextFileReader\u001b[0m\u001b[0;34m(\u001b[0m\u001b[0mfilepath_or_buffer\u001b[0m\u001b[0;34m,\u001b[0m \u001b[0;34m**\u001b[0m\u001b[0mkwds\u001b[0m\u001b[0;34m)\u001b[0m\u001b[0;34m\u001b[0m\u001b[0;34m\u001b[0m\u001b[0m\n\u001b[0m\u001b[1;32m    483\u001b[0m \u001b[0;34m\u001b[0m\u001b[0m\n\u001b[1;32m    484\u001b[0m     \u001b[0;32mif\u001b[0m \u001b[0mchunksize\u001b[0m \u001b[0;32mor\u001b[0m \u001b[0miterator\u001b[0m\u001b[0;34m:\u001b[0m\u001b[0;34m\u001b[0m\u001b[0;34m\u001b[0m\u001b[0m\n",
            "\u001b[0;32m/usr/local/lib/python3.7/dist-packages/pandas/io/parsers/readers.py\u001b[0m in \u001b[0;36m__init__\u001b[0;34m(self, f, engine, **kwds)\u001b[0m\n\u001b[1;32m    809\u001b[0m             \u001b[0mself\u001b[0m\u001b[0;34m.\u001b[0m\u001b[0moptions\u001b[0m\u001b[0;34m[\u001b[0m\u001b[0;34m\"has_index_names\"\u001b[0m\u001b[0;34m]\u001b[0m \u001b[0;34m=\u001b[0m \u001b[0mkwds\u001b[0m\u001b[0;34m[\u001b[0m\u001b[0;34m\"has_index_names\"\u001b[0m\u001b[0;34m]\u001b[0m\u001b[0;34m\u001b[0m\u001b[0;34m\u001b[0m\u001b[0m\n\u001b[1;32m    810\u001b[0m \u001b[0;34m\u001b[0m\u001b[0m\n\u001b[0;32m--> 811\u001b[0;31m         \u001b[0mself\u001b[0m\u001b[0;34m.\u001b[0m\u001b[0m_engine\u001b[0m \u001b[0;34m=\u001b[0m \u001b[0mself\u001b[0m\u001b[0;34m.\u001b[0m\u001b[0m_make_engine\u001b[0m\u001b[0;34m(\u001b[0m\u001b[0mself\u001b[0m\u001b[0;34m.\u001b[0m\u001b[0mengine\u001b[0m\u001b[0;34m)\u001b[0m\u001b[0;34m\u001b[0m\u001b[0;34m\u001b[0m\u001b[0m\n\u001b[0m\u001b[1;32m    812\u001b[0m \u001b[0;34m\u001b[0m\u001b[0m\n\u001b[1;32m    813\u001b[0m     \u001b[0;32mdef\u001b[0m \u001b[0mclose\u001b[0m\u001b[0;34m(\u001b[0m\u001b[0mself\u001b[0m\u001b[0;34m)\u001b[0m\u001b[0;34m:\u001b[0m\u001b[0;34m\u001b[0m\u001b[0;34m\u001b[0m\u001b[0m\n",
            "\u001b[0;32m/usr/local/lib/python3.7/dist-packages/pandas/io/parsers/readers.py\u001b[0m in \u001b[0;36m_make_engine\u001b[0;34m(self, engine)\u001b[0m\n\u001b[1;32m   1038\u001b[0m             )\n\u001b[1;32m   1039\u001b[0m         \u001b[0;31m# error: Too many arguments for \"ParserBase\"\u001b[0m\u001b[0;34m\u001b[0m\u001b[0;34m\u001b[0m\u001b[0;34m\u001b[0m\u001b[0m\n\u001b[0;32m-> 1040\u001b[0;31m         \u001b[0;32mreturn\u001b[0m \u001b[0mmapping\u001b[0m\u001b[0;34m[\u001b[0m\u001b[0mengine\u001b[0m\u001b[0;34m]\u001b[0m\u001b[0;34m(\u001b[0m\u001b[0mself\u001b[0m\u001b[0;34m.\u001b[0m\u001b[0mf\u001b[0m\u001b[0;34m,\u001b[0m \u001b[0;34m**\u001b[0m\u001b[0mself\u001b[0m\u001b[0;34m.\u001b[0m\u001b[0moptions\u001b[0m\u001b[0;34m)\u001b[0m  \u001b[0;31m# type: ignore[call-arg]\u001b[0m\u001b[0;34m\u001b[0m\u001b[0;34m\u001b[0m\u001b[0m\n\u001b[0m\u001b[1;32m   1041\u001b[0m \u001b[0;34m\u001b[0m\u001b[0m\n\u001b[1;32m   1042\u001b[0m     \u001b[0;32mdef\u001b[0m \u001b[0m_failover_to_python\u001b[0m\u001b[0;34m(\u001b[0m\u001b[0mself\u001b[0m\u001b[0;34m)\u001b[0m\u001b[0;34m:\u001b[0m\u001b[0;34m\u001b[0m\u001b[0;34m\u001b[0m\u001b[0m\n",
            "\u001b[0;32m/usr/local/lib/python3.7/dist-packages/pandas/io/parsers/c_parser_wrapper.py\u001b[0m in \u001b[0;36m__init__\u001b[0;34m(self, src, **kwds)\u001b[0m\n\u001b[1;32m     49\u001b[0m \u001b[0;34m\u001b[0m\u001b[0m\n\u001b[1;32m     50\u001b[0m         \u001b[0;31m# open handles\u001b[0m\u001b[0;34m\u001b[0m\u001b[0;34m\u001b[0m\u001b[0;34m\u001b[0m\u001b[0m\n\u001b[0;32m---> 51\u001b[0;31m         \u001b[0mself\u001b[0m\u001b[0;34m.\u001b[0m\u001b[0m_open_handles\u001b[0m\u001b[0;34m(\u001b[0m\u001b[0msrc\u001b[0m\u001b[0;34m,\u001b[0m \u001b[0mkwds\u001b[0m\u001b[0;34m)\u001b[0m\u001b[0;34m\u001b[0m\u001b[0;34m\u001b[0m\u001b[0m\n\u001b[0m\u001b[1;32m     52\u001b[0m         \u001b[0;32massert\u001b[0m \u001b[0mself\u001b[0m\u001b[0;34m.\u001b[0m\u001b[0mhandles\u001b[0m \u001b[0;32mis\u001b[0m \u001b[0;32mnot\u001b[0m \u001b[0;32mNone\u001b[0m\u001b[0;34m\u001b[0m\u001b[0;34m\u001b[0m\u001b[0m\n\u001b[1;32m     53\u001b[0m \u001b[0;34m\u001b[0m\u001b[0m\n",
            "\u001b[0;32m/usr/local/lib/python3.7/dist-packages/pandas/io/parsers/base_parser.py\u001b[0m in \u001b[0;36m_open_handles\u001b[0;34m(self, src, kwds)\u001b[0m\n\u001b[1;32m    227\u001b[0m             \u001b[0mmemory_map\u001b[0m\u001b[0;34m=\u001b[0m\u001b[0mkwds\u001b[0m\u001b[0;34m.\u001b[0m\u001b[0mget\u001b[0m\u001b[0;34m(\u001b[0m\u001b[0;34m\"memory_map\"\u001b[0m\u001b[0;34m,\u001b[0m \u001b[0;32mFalse\u001b[0m\u001b[0;34m)\u001b[0m\u001b[0;34m,\u001b[0m\u001b[0;34m\u001b[0m\u001b[0;34m\u001b[0m\u001b[0m\n\u001b[1;32m    228\u001b[0m             \u001b[0mstorage_options\u001b[0m\u001b[0;34m=\u001b[0m\u001b[0mkwds\u001b[0m\u001b[0;34m.\u001b[0m\u001b[0mget\u001b[0m\u001b[0;34m(\u001b[0m\u001b[0;34m\"storage_options\"\u001b[0m\u001b[0;34m,\u001b[0m \u001b[0;32mNone\u001b[0m\u001b[0;34m)\u001b[0m\u001b[0;34m,\u001b[0m\u001b[0;34m\u001b[0m\u001b[0;34m\u001b[0m\u001b[0m\n\u001b[0;32m--> 229\u001b[0;31m             \u001b[0merrors\u001b[0m\u001b[0;34m=\u001b[0m\u001b[0mkwds\u001b[0m\u001b[0;34m.\u001b[0m\u001b[0mget\u001b[0m\u001b[0;34m(\u001b[0m\u001b[0;34m\"encoding_errors\"\u001b[0m\u001b[0;34m,\u001b[0m \u001b[0;34m\"strict\"\u001b[0m\u001b[0;34m)\u001b[0m\u001b[0;34m,\u001b[0m\u001b[0;34m\u001b[0m\u001b[0;34m\u001b[0m\u001b[0m\n\u001b[0m\u001b[1;32m    230\u001b[0m         )\n\u001b[1;32m    231\u001b[0m \u001b[0;34m\u001b[0m\u001b[0m\n",
            "\u001b[0;32m/usr/local/lib/python3.7/dist-packages/pandas/io/common.py\u001b[0m in \u001b[0;36mget_handle\u001b[0;34m(path_or_buf, mode, encoding, compression, memory_map, is_text, errors, storage_options)\u001b[0m\n\u001b[1;32m    705\u001b[0m                 \u001b[0mencoding\u001b[0m\u001b[0;34m=\u001b[0m\u001b[0mioargs\u001b[0m\u001b[0;34m.\u001b[0m\u001b[0mencoding\u001b[0m\u001b[0;34m,\u001b[0m\u001b[0;34m\u001b[0m\u001b[0;34m\u001b[0m\u001b[0m\n\u001b[1;32m    706\u001b[0m                 \u001b[0merrors\u001b[0m\u001b[0;34m=\u001b[0m\u001b[0merrors\u001b[0m\u001b[0;34m,\u001b[0m\u001b[0;34m\u001b[0m\u001b[0;34m\u001b[0m\u001b[0m\n\u001b[0;32m--> 707\u001b[0;31m                 \u001b[0mnewline\u001b[0m\u001b[0;34m=\u001b[0m\u001b[0;34m\"\"\u001b[0m\u001b[0;34m,\u001b[0m\u001b[0;34m\u001b[0m\u001b[0;34m\u001b[0m\u001b[0m\n\u001b[0m\u001b[1;32m    708\u001b[0m             )\n\u001b[1;32m    709\u001b[0m         \u001b[0;32melse\u001b[0m\u001b[0;34m:\u001b[0m\u001b[0;34m\u001b[0m\u001b[0;34m\u001b[0m\u001b[0m\n",
            "\u001b[0;31mFileNotFoundError\u001b[0m: [Errno 2] No such file or directory: 'sp500_dataset.csv'"
          ]
        }
      ]
    },
    {
      "cell_type": "markdown",
      "source": [
        "### Tampilkan 10 baris pertama"
      ],
      "metadata": {
        "id": "Kzm92Y_vd6pm"
      }
    },
    {
      "cell_type": "code",
      "source": [
        "df.head(10)"
      ],
      "metadata": {
        "id": "89zzlgbtd5tu"
      },
      "execution_count": null,
      "outputs": []
    },
    {
      "cell_type": "markdown",
      "source": [
        "### Tampilkan semua type kolom"
      ],
      "metadata": {
        "id": "kOp_v0Jkd_sR"
      }
    },
    {
      "cell_type": "code",
      "source": [
        "df.info()"
      ],
      "metadata": {
        "id": "kheU_kMEeGcH"
      },
      "execution_count": null,
      "outputs": []
    },
    {
      "cell_type": "markdown",
      "source": [
        "### Tampilkan summary statistic dari dataset"
      ],
      "metadata": {
        "id": "-Ko8FXsKeHSR"
      }
    },
    {
      "cell_type": "code",
      "source": [
        "df.describe()"
      ],
      "metadata": {
        "id": "46cm9mUReG6r"
      },
      "execution_count": null,
      "outputs": []
    },
    {
      "cell_type": "markdown",
      "source": [
        "### Ada hari dalam dataeset?"
      ],
      "metadata": {
        "id": "43RvD-fveMmK"
      }
    },
    {
      "cell_type": "code",
      "source": [
        "df['date'] = pd.to_datetime(df['date'])"
      ],
      "metadata": {
        "id": "JVLRh8Z6eMSk"
      },
      "execution_count": null,
      "outputs": []
    },
    {
      "cell_type": "code",
      "source": [
        "df['date'].tail()"
      ],
      "metadata": {
        "id": "vPPPnBZq-LWC"
      },
      "execution_count": null,
      "outputs": []
    },
    {
      "cell_type": "markdown",
      "source": [
        "### Berapa jumlah perusahaan dalam dataset?"
      ],
      "metadata": {
        "id": "wsSRg_8seYf1"
      }
    },
    {
      "cell_type": "code",
      "source": [
        "df['firm'].nunique()"
      ],
      "metadata": {
        "id": "FMx68C25ecx7"
      },
      "execution_count": null,
      "outputs": []
    },
    {
      "cell_type": "markdown",
      "source": [
        "### Tampilkan 5 perusahaan dengan Gross Profit tertinggi pada tanggal 30 Nov 2020"
      ],
      "metadata": {
        "id": "UKtOG7Eyedax"
      }
    },
    {
      "cell_type": "code",
      "source": [
        "df[(df['date']=='2020-11-30')].sort_values(by=['Gross Profit'], ascending=False).head(5)"
      ],
      "metadata": {
        "id": "B3cpad1gfnu1"
      },
      "execution_count": null,
      "outputs": []
    },
    {
      "cell_type": "markdown",
      "source": [
        "### Tampilkan 5 perusahaan dengan EBIT tertinggi selama bukan januari 2021. Perusahaan tidak boleh duplikat"
      ],
      "metadata": {
        "id": "b1WfQYBjfwg_"
      }
    },
    {
      "cell_type": "code",
      "source": [
        "start_day = '01-01-2021'\n",
        "end_day = '31-01-2021'\n",
        "\n",
        "start = pd.to_datetime(start_day)\n",
        "end = pd.to_datetime(end_day)\n",
        "df[df['date'].between(start, end)].sort_values(by=['Ebit'], ascending=False).drop_duplicates(subset=['firm']).head()"
      ],
      "metadata": {
        "id": "sjcW24iYgeo6"
      },
      "execution_count": null,
      "outputs": []
    },
    {
      "cell_type": "markdown",
      "source": [
        "### Buat datasframe baru dengan kolom date, Ticker, Research Development, Net Income, Gross Profit, Ebit"
      ],
      "metadata": {
        "id": "3ef43q81gpDQ"
      }
    },
    {
      "cell_type": "code",
      "source": [
        "df2 = df[['date','Ticker','Research Development','Net Income','Gross Profit','Ebit']]\n",
        "df2.head()"
      ],
      "metadata": {
        "id": "E9sIe2gThF4I"
      },
      "execution_count": null,
      "outputs": []
    },
    {
      "cell_type": "markdown",
      "source": [
        "### Ubah nama kolom pada dataframe yang baru menjadi date, code, rnd, net_income, gross_profit, ebit"
      ],
      "metadata": {
        "id": "Q4ElNRYThKnY"
      }
    },
    {
      "cell_type": "code",
      "source": [
        "df2.columns = ['date','code','rnd','net_income','gross_profit','ebit']\n",
        "df2.head()"
      ],
      "metadata": {
        "id": "gdi_ULMkhcsL"
      },
      "execution_count": null,
      "outputs": []
    },
    {
      "cell_type": "markdown",
      "source": [
        "### Agragasi dataset\n",
        "\n",
        "Output yang diharapkan:\n",
        "\n",
        "\n",
        "\n",
        "\n",
        "*   month -> Format: YYYYMM\n",
        "*   code\n",
        "*   max_ebit -> nilai maksimum dari ebit\n",
        "*   avg_rnd -> nilai rata-rata dari rnd\n",
        "*   total_gprofit -> total penjumlahan dari gross_profit\n",
        "\n"
      ],
      "metadata": {
        "id": "uj-PWgzqhj1U"
      }
    },
    {
      "cell_type": "code",
      "source": [
        "import numpy as np\n",
        "\n",
        "agg_summary = df2.groupby([\n",
        "                           pd.Grouper(key='date', freq='M'),'code']\n",
        "                          ).agg(\n",
        "                              max_ebit=('ebit',max),\n",
        "                              avg_rnd=('rnd', np.mean),\n",
        "                              total_gprofit=('gross_profit',sum)\n",
        "                          ).dropna().reset_index()\n",
        "\n",
        "agg_summary['date'] = agg_summary['date'].dt.strftime('%Y%m')\n",
        "\n",
        "agg_summary.rename(columns = {'date' : 'month'}, inplace=True)\n",
        "\n",
        "agg_summary"
      ],
      "metadata": {
        "id": "-sDr2Ce7hrPr"
      },
      "execution_count": null,
      "outputs": []
    }
  ]
}