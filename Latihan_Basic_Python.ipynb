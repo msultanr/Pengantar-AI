{
  "nbformat": 4,
  "nbformat_minor": 0,
  "metadata": {
    "colab": {
      "provenance": []
    },
    "kernelspec": {
      "name": "python3",
      "display_name": "Python 3"
    },
    "language_info": {
      "name": "python"
    }
  },
  "cells": [
    {
      "cell_type": "markdown",
      "source": [
        "#Latihan 1\n",
        "\n",
        "Buatlah biodata diri dengan python menggunakan `print()`"
      ],
      "metadata": {
        "id": "DjL2oM81_0EX"
      }
    },
    {
      "cell_type": "code",
      "source": [
        "#Contoh :\n",
        "\n",
        "print('Nama saya Rika')\n",
        "print('Umur saya 25 Tahun')\n",
        "print('Saya berasal dari Bali')"
      ],
      "metadata": {
        "id": "Cn89XOjs_6Kt"
      },
      "execution_count": null,
      "outputs": []
    },
    {
      "cell_type": "code",
      "source": [
        "#Jawabanmu\n",
        "\n",
        "print('Sasa')\n",
        "print('Umur saya 20 Tahun')\n",
        "print('Saya berasal dari Semarang')"
      ],
      "metadata": {
        "id": "T-sPiXWNAMVi",
        "colab": {
          "base_uri": "https://localhost:8080/"
        },
        "outputId": "4351544b-591f-44d4-ac35-361aa0f6d15d"
      },
      "execution_count": null,
      "outputs": [
        {
          "output_type": "stream",
          "name": "stdout",
          "text": [
            "Sasa\n"
          ]
        }
      ]
    },
    {
      "cell_type": "markdown",
      "source": [
        "#Latihan 2"
      ],
      "metadata": {
        "id": "6I4Y4iy8Ag0L"
      }
    },
    {
      "cell_type": "markdown",
      "source": [
        "Buatlah perhitungan luas segitiga menggunakan python, dan hitung luas segitiga dengan\n",
        "\n",
        "1. alas = 2, tinggi = 4\n",
        "1. alas = 3, tinggi = 5\n",
        "1. alas = 3, tinggi = 6\n",
        "\n",
        "clue :\n",
        "\n",
        "$L\\Delta = (a * t)/2$"
      ],
      "metadata": {
        "id": "9CKXZ_xkAouA"
      }
    },
    {
      "cell_type": "code",
      "source": [
        "#Jawabanmu\n",
        "alas = input('Masukkan Alas : ')\n",
        "tinggi = input('Masukkan Tinggi : ')\n",
        "luas = int(alas) * int(tinggi) / 2\n",
        "print('Luas Segitiga adalah : ', luas)"
      ],
      "metadata": {
        "id": "JJ-uEygHLiVT",
        "colab": {
          "base_uri": "https://localhost:8080/"
        },
        "outputId": "8d75ef49-4fdb-4c76-c183-c46e40e11c5f"
      },
      "execution_count": null,
      "outputs": [
        {
          "output_type": "stream",
          "name": "stdout",
          "text": [
            "Masukkan Alas : 3\n",
            "Masukkan Tinggi : 5\n",
            "Luas Segitiga adalah :  7.5\n"
          ]
        }
      ]
    },
    {
      "cell_type": "markdown",
      "source": [
        "#Latihan 3\n",
        "\n",
        "Buatlah kode untuk menentukan apakah angka yang dimasukkan bernilai genap atau ganjil\n",
        "\n",
        "clue:\n",
        "* sisa bagi dari bilangan genap oleh 2 adalah 0"
      ],
      "metadata": {
        "id": "pJwWx2IeB6zz"
      }
    },
    {
      "cell_type": "code",
      "source": [
        "angka = int(input('Masukkan angka! '))\n",
        "#Jawabanmu\n",
        "if (angka % 2 == 0):\n",
        "  print('Angka merupakan bilangan genap')\n",
        "else:\n",
        "  print('Angka merupakan bilangan ganjil')"
      ],
      "metadata": {
        "id": "im0YzvIuAiJE",
        "colab": {
          "base_uri": "https://localhost:8080/"
        },
        "outputId": "474365a0-d0a0-45e6-973d-222a3085e890"
      },
      "execution_count": null,
      "outputs": [
        {
          "output_type": "stream",
          "name": "stdout",
          "text": [
            "Masukkan angka! 5\n",
            "Angka merupakan bilangan ganjil\n"
          ]
        }
      ]
    },
    {
      "cell_type": "markdown",
      "source": [
        "#Latihan 4\n",
        "\n",
        "Dengan loop, buatlah kode untuk melakukan perhitungan mundur dari 10 hingga 1"
      ],
      "metadata": {
        "id": "4HeEt0f8CYzf"
      }
    },
    {
      "cell_type": "code",
      "source": [
        "#Jawabanmu\n",
        "for i in range(10,0,-1):\n",
        "  print (i)"
      ],
      "metadata": {
        "id": "F4YMUS8hDXlB",
        "colab": {
          "base_uri": "https://localhost:8080/"
        },
        "outputId": "28b16762-9ef0-4c6e-e424-ac9c03d33a83"
      },
      "execution_count": null,
      "outputs": [
        {
          "output_type": "stream",
          "name": "stdout",
          "text": [
            "10\n",
            "9\n",
            "8\n",
            "7\n",
            "6\n",
            "5\n",
            "4\n",
            "3\n",
            "2\n",
            "1\n"
          ]
        }
      ]
    },
    {
      "cell_type": "markdown",
      "source": [
        "#Latihan 5\n",
        "\n",
        "Buatlah kode yang mengubah setiap nilai suhu dalam reamur pada list data yang dimiliki menjadi celcius\n",
        "\n",
        "clue:\n",
        "* Gunakan loop\n",
        "* $Celcius = 5/4 * Reamur$"
      ],
      "metadata": {
        "id": "QfKclFmPDZHO"
      }
    },
    {
      "cell_type": "code",
      "source": [
        "suhu_reamur = [20, 16, 15, 12]\n",
        "#Jawaban\n",
        "for x in suhu_reamur:\n",
        "  celcius = 5/4*x\n",
        "  print(celcius)"
      ],
      "metadata": {
        "id": "Rh1YA2ZbD4dQ",
        "colab": {
          "base_uri": "https://localhost:8080/"
        },
        "outputId": "b22b6c23-d6ff-4099-f69b-96ea84a19c1d"
      },
      "execution_count": null,
      "outputs": [
        {
          "output_type": "stream",
          "name": "stdout",
          "text": [
            "25.0\n",
            "20.0\n",
            "18.75\n",
            "15.0\n"
          ]
        }
      ]
    },
    {
      "cell_type": "markdown",
      "source": [
        "##Latihan 6\n",
        "\n",
        "Buatlah kode yang mengubah huruf pertama dan terakhir dalam sebuah kata menjadi kapital\n",
        "\n",
        "contoh\n",
        "input: hello world\n",
        "output: HellO WorlD"
      ],
      "metadata": {
        "id": "tY0_Huyxcn1M"
      }
    },
    {
      "cell_type": "code",
      "source": [
        "pesan1 = 'selamat datang'\n",
        "pesan2 = 'les data science'\n",
        "#Jawaban\n",
        "def kapital_huruf_pertama_dan_terakhir(kalimat):\n",
        "     kalimat = result = kalimat.title()\n",
        "     result =  \"\"\n",
        "     for word in kalimat.split():\n",
        "        result += word[:-1] + word[-1].upper() + \" \"\n",
        "     return result[:-1]\n",
        "print(kapital_huruf_pertama_dan_terakhir(pesan1))\n",
        "print(kapital_huruf_pertama_dan_terakhir(pesan2))"
      ],
      "metadata": {
        "id": "W8keQOiZMcdy",
        "colab": {
          "base_uri": "https://localhost:8080/"
        },
        "outputId": "d508569e-c9e3-42cc-e495-59c3ed4e84e4"
      },
      "execution_count": null,
      "outputs": [
        {
          "output_type": "stream",
          "name": "stdout",
          "text": [
            "SelamaT DatanG\n",
            "LeS DatA SciencE\n"
          ]
        }
      ]
    },
    {
      "cell_type": "markdown",
      "source": [
        "##Latihan 7\n",
        "\n",
        "Hitunglah *Mean Absolute Error* (MAE) dari list nilai prediksi terhadap list nilai aslinya\n",
        "\n",
        "$mae = (\\frac{1}{n})\\sum_{i=1}^{n}\\left | y_{i} - x_{i} \\right |$\n",
        "\n",
        "dimana:\n",
        "* n = jumlah data\n",
        "* yi = nilai prediksi ke-i\n",
        "* xi = nilai aktual ke-i"
      ],
      "metadata": {
        "id": "r6a_9cUJhP7t"
      }
    },
    {
      "cell_type": "code",
      "source": [
        "y = [1.2, 5, 8.7, 10, 15]\n",
        "x = [1, 4.5, 9.2, 9, 14]\n",
        "#Jawaban\n",
        "n = 5\n",
        "sum = 0\n",
        "  \n",
        "# for loop for iteration\n",
        "for i in range(n):\n",
        "    sum += abs(x[i] - y[i])\n",
        "  \n",
        "error = sum/n\n",
        "  \n",
        "# display\n",
        "print(\"Mean absolute error : \" + str(error))"
      ],
      "metadata": {
        "id": "_vnq55QqirkG",
        "colab": {
          "base_uri": "https://localhost:8080/"
        },
        "outputId": "b0485b7a-c2d1-40d8-b451-a24acddde455"
      },
      "execution_count": null,
      "outputs": [
        {
          "output_type": "stream",
          "name": "stdout",
          "text": [
            "Mean absolute error : 0.64\n"
          ]
        }
      ]
    },
    {
      "cell_type": "markdown",
      "source": [
        "##Latihan 8\n",
        "\n",
        "Buatlah kode untuk mengecek apakah ada nilai `200` dalam dictionary\n",
        "\n",
        "clue: gunakan .values() untuk mengakses value pada dictionary\n"
      ],
      "metadata": {
        "id": "J_jWC73QjS0r"
      }
    },
    {
      "cell_type": "code",
      "source": [
        "sample_dict = {'a': 100, 'b': 200, 'c': 300}\n",
        "#Jawaban\n",
        "sample_dict.values()\n",
        "if (200 in sample_dict.values()):\n",
        "  print('Terdapat angka 200 didalam dictionary')\n",
        "else:\n",
        "  print('Tidak ada angka 200 didalam dictionary')"
      ],
      "metadata": {
        "id": "qxAGf4YEjIr9",
        "colab": {
          "base_uri": "https://localhost:8080/"
        },
        "outputId": "644c6044-961b-4a3f-8f83-0ffbcffe8d79"
      },
      "execution_count": null,
      "outputs": [
        {
          "output_type": "stream",
          "name": "stdout",
          "text": [
            "Terdapat angka 200 didalam dictionary\n"
          ]
        }
      ]
    },
    {
      "cell_type": "markdown",
      "source": [
        "##Latihan 9\n",
        "\n",
        "Buatlah kode untuk menghitung nilai dari \n",
        "\n",
        "f(x) = x^2 + 3x - 5\n",
        "\n",
        "untuk x:\n",
        "* x = 2\n",
        "* x = 3\n",
        "* x - 5"
      ],
      "metadata": {
        "id": "gK33pJJ9kHdW"
      }
    },
    {
      "cell_type": "code",
      "source": [
        "#Lanjutkan\n",
        "def f(x):\n",
        "  return (x**2)+(3*x)-5\n",
        "print(f(2))\n",
        "print(f(3))\n",
        "print(f(5))\n",
        "print(f(x-5))"
      ],
      "metadata": {
        "id": "kmUJm-peT-ch",
        "colab": {
          "base_uri": "https://localhost:8080/"
        },
        "outputId": "c6dd0a93-b05b-4007-f5ad-7135904565ef"
      },
      "execution_count": null,
      "outputs": [
        {
          "output_type": "stream",
          "name": "stdout",
          "text": [
            "5\n",
            "13\n",
            "35\n",
            "65\n"
          ]
        }
      ]
    },
    {
      "cell_type": "markdown",
      "source": [
        "##Latihan 10\n",
        "\n",
        "Buatlah kode untuk menghitung luas gabungan dari persegi panjang dan segitiga\n",
        "\n",
        "No | Lebar | Panjang | Alas | Tinggi\n",
        "--- | --- | --- | --- | ---\n",
        "1 | 2 | 5 | 3 | 6\n",
        "2 | 3 | 5 | 4 | 8\n",
        "3 | 3 | 6 | 2 | 5\n",
        "4 | 5 | 8 | 2 | 4\n",
        "5 | 4 | 10 | 3 | 5"
      ],
      "metadata": {
        "id": "TcEsq-Q3k_hg"
      }
    },
    {
      "cell_type": "code",
      "source": [
        "#Jawaban\n",
        "lebar = input('Masukkan Lebar : ')\n",
        "panjang = input('Masukkan Panjang : ')\n",
        "alas = input('Masukkan alas : ')\n",
        "tinggi = input('Masukkan tinggi : ')\n",
        "\n",
        "luas_persegi_panjang = int(panjang) * int(lebar)\n",
        "luas_segitiga = int(alas) * int(tinggi) / 2\n",
        "print('luas persegi panjang adalah : ',luas_persegi_panjang)\n",
        "print('luas segitiga adalah : ',luas_segitiga)\n",
        "print('luas gabungan persegi panjang dan segitiga adalah : ',luas_persegi_panjang + luas_segitiga)"
      ],
      "metadata": {
        "id": "wREOWc7bkGr4",
        "colab": {
          "base_uri": "https://localhost:8080/"
        },
        "outputId": "f15c6893-440d-4c33-cefd-6a0733b471c2"
      },
      "execution_count": null,
      "outputs": [
        {
          "output_type": "stream",
          "name": "stdout",
          "text": [
            "Masukkan Lebar : 2\n",
            "Masukkan Panjang : 4\n",
            "Masukkan alas : 3\n",
            "Masukkan tinggi : 4\n",
            "luas persegi panjang adalah :  8\n",
            "luas segitiga adalah :  6.0\n",
            "luas gabungan persegi panjang dan segitiga adalah :  14.0\n"
          ]
        }
      ]
    }
  ]
}